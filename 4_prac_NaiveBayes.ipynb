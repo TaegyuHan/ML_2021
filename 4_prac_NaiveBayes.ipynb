{
 "cells": [
  {
   "cell_type": "markdown",
   "metadata": {},
   "source": [
    "# NB NaiveBayes"
   ]
  },
  {
   "cell_type": "markdown",
   "metadata": {},
   "source": [
    "# DATA\n",
    "\n",
    "URL : https://archive.ics.uci.edu/ml/datasets/Artificial+Characters"
   ]
  },
  {
   "cell_type": "markdown",
   "metadata": {},
   "source": [
    "# data read"
   ]
  },
  {
   "cell_type": "code",
   "execution_count": 1,
   "metadata": {},
   "outputs": [
    {
     "data": {
      "text/plain": [
       "(0, 0)"
      ]
     },
     "execution_count": 1,
     "metadata": {},
     "output_type": "execute_result"
    }
   ],
   "source": [
    "import pandas as pd\n",
    "import numpy as np\n",
    "\n",
    "data_dirs = ['./data/murphy/learn', './data/murphy/test']\n",
    "\n",
    "original_data = pd.DataFrame()\n",
    "\n",
    "original_data.shape"
   ]
  },
  {
   "cell_type": "code",
   "execution_count": 7,
   "metadata": {},
   "outputs": [
    {
     "name": "stdout",
     "output_type": "stream",
     "text": [
      "./data/murphy/learn 안에는 1000개의 파일 존재\n",
      "./data/murphy/test 안에는 5000개의 파일 존재  \n",
      "Data road : ./data/murphy/test/r99  \r"
     ]
    },
    {
     "data": {
      "text/plain": [
       "6000"
      ]
     },
     "execution_count": 7,
     "metadata": {},
     "output_type": "execute_result"
    }
   ],
   "source": [
    "import os\n",
    "\n",
    "multiple_dfs = []\n",
    "\n",
    "for dd in data_dirs:\n",
    "    filenames = os.listdir(dd)\n",
    "    filenames.sort()\n",
    "    print('{} 안에는 {}개의 파일 존재'.format(dd, len(filenames)))\n",
    "    \n",
    "    for fn in filenames:\n",
    "        full_path = dd + '/' + fn\n",
    "        with open(full_path, 'r') as rf:\n",
    "            while True:\n",
    "                content = rf.readline()\n",
    "                if not content: break\n",
    "                while ' ' in content:\n",
    "                    content = content.replace(' ', ' ')\n",
    "        \n",
    "        \n",
    "        print(\"Data road : {0:<10} \\r\".format(full_path), end=\"\")\n",
    "        tmp_df = pd.read_csv(full_path, sep='\\t', dtype='unicode')\n",
    "        multiple_dfs.append(tmp_df)\n",
    "        \n",
    "len(multiple_dfs)"
   ]
  },
  {
   "cell_type": "markdown",
   "metadata": {},
   "source": [
    "### "
   ]
  }
 ],
 "metadata": {
  "kernelspec": {
   "display_name": "Python 3",
   "language": "python",
   "name": "python3"
  },
  "language_info": {
   "codemirror_mode": {
    "name": "ipython",
    "version": 3
   },
   "file_extension": ".py",
   "mimetype": "text/x-python",
   "name": "python",
   "nbconvert_exporter": "python",
   "pygments_lexer": "ipython3",
   "version": "3.8.5"
  }
 },
 "nbformat": 4,
 "nbformat_minor": 4
}
