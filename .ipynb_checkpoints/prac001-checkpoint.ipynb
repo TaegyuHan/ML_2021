{
 "cells": [
  {
   "cell_type": "markdown",
   "metadata": {},
   "source": [
    "# Decision Tree\n",
    "\n",
    "## module import"
   ]
  },
  {
   "cell_type": "code",
<<<<<<< Updated upstream
   "execution_count": 19,
=======
   "execution_count": 1,
>>>>>>> Stashed changes
   "metadata": {},
   "outputs": [],
   "source": [
    "import numpy as np\n",
    "import pandas as pd"
   ]
  },
  {
   "cell_type": "markdown",
   "metadata": {},
   "source": [
    "## 데이터 불러오기"
   ]
  },
  {
   "cell_type": "code",
<<<<<<< Updated upstream
   "execution_count": 20,
=======
   "execution_count": 4,
>>>>>>> Stashed changes
   "metadata": {},
   "outputs": [
    {
     "data": {
      "text/plain": [
       "(119, 8)"
      ]
     },
<<<<<<< Updated upstream
     "execution_count": 20,
=======
     "execution_count": 4,
>>>>>>> Stashed changes
     "metadata": {},
     "output_type": "execute_result"
    }
   ],
   "source": [
    "datapath = './data/diagnosis2.data'\n",
    "\n",
    "original_data = pd.read_csv(datapath, sep='\\t')\n",
    "\n",
    "## 데이터 구조 \n",
    "## row 119개 col 8개\n",
    "original_data.shape"
   ]
  },
  {
   "cell_type": "markdown",
   "metadata": {},
   "source": [
    "## columns 이름"
   ]
  },
  {
   "cell_type": "code",
<<<<<<< Updated upstream
   "execution_count": 21,
=======
   "execution_count": 6,
>>>>>>> Stashed changes
   "metadata": {},
   "outputs": [
    {
     "data": {
      "text/plain": [
       "Index(['35,5', 'no', 'yes', 'no.1', 'no.2', 'no.3', 'no.4', 'no.5'], dtype='object')"
      ]
     },
<<<<<<< Updated upstream
     "execution_count": 21,
=======
     "execution_count": 6,
>>>>>>> Stashed changes
     "metadata": {},
     "output_type": "execute_result"
    }
   ],
   "source": [
    "original_data.columns"
   ]
  },
  {
   "cell_type": "markdown",
   "metadata": {},
   "source": [
    "## columns 이름을 추가해서 불러오기"
   ]
  },
  {
   "cell_type": "code",
<<<<<<< Updated upstream
   "execution_count": 22,
=======
   "execution_count": 12,
>>>>>>> Stashed changes
   "metadata": {},
   "outputs": [
    {
     "data": {
      "text/plain": [
       "(120, 8)"
      ]
     },
<<<<<<< Updated upstream
     "execution_count": 22,
=======
     "execution_count": 12,
>>>>>>> Stashed changes
     "metadata": {},
     "output_type": "execute_result"
    }
   ],
   "source": [
    "datapath = './data/diagnosis2.data'\n",
    "\n",
    "original_data = pd.read_csv( datapath\n",
    "                           , sep='\\t'\n",
    "                           , names=[ 'temperatuer'\n",
    "                                   , 'nausea'\n",
    "                                   , 'lumbar_pain'\n",
    "                                   , 'urine_pushing'\n",
    "                                   , 'micturition_pains'\n",
    "                                   , 'burning_of_urethra'\n",
    "                                   , 'inflamation'\n",
    "                                   , 'nephritis'])\n",
    "\n",
    "original_data.shape"
   ]
  },
  {
   "cell_type": "markdown",
   "metadata": {},
   "source": [
    "### 데이터 확인하기"
   ]
  },
  {
   "cell_type": "code",
<<<<<<< Updated upstream
   "execution_count": 7,
=======
   "execution_count": 17,
>>>>>>> Stashed changes
   "metadata": {},
   "outputs": [
    {
     "data": {
      "text/html": [
       "<div>\n",
       "<style scoped>\n",
       "    .dataframe tbody tr th:only-of-type {\n",
       "        vertical-align: middle;\n",
       "    }\n",
       "\n",
       "    .dataframe tbody tr th {\n",
       "        vertical-align: top;\n",
       "    }\n",
       "\n",
       "    .dataframe thead th {\n",
       "        text-align: right;\n",
       "    }\n",
       "</style>\n",
       "<table border=\"1\" class=\"dataframe\">\n",
       "  <thead>\n",
       "    <tr style=\"text-align: right;\">\n",
       "      <th></th>\n",
       "      <th>temperatuer</th>\n",
       "      <th>nausea</th>\n",
       "      <th>lumbar_pain</th>\n",
       "      <th>urine_pushing</th>\n",
       "      <th>micturition_pains</th>\n",
       "      <th>burning_of_urethra</th>\n",
       "      <th>inflamation</th>\n",
       "      <th>nephritis</th>\n",
       "    </tr>\n",
       "  </thead>\n",
       "  <tbody>\n",
       "    <tr>\n",
       "      <td>0</td>\n",
<<<<<<< Updated upstream
       "      <td>35,5</td>\n",
=======
       "      <td>35.5</td>\n",
>>>>>>> Stashed changes
       "      <td>no</td>\n",
       "      <td>yes</td>\n",
       "      <td>no</td>\n",
       "      <td>no</td>\n",
       "      <td>no</td>\n",
       "      <td>no</td>\n",
       "      <td>no</td>\n",
       "    </tr>\n",
       "    <tr>\n",
       "      <td>1</td>\n",
<<<<<<< Updated upstream
       "      <td>35,9</td>\n",
=======
       "      <td>35.9</td>\n",
>>>>>>> Stashed changes
       "      <td>no</td>\n",
       "      <td>no</td>\n",
       "      <td>yes</td>\n",
       "      <td>yes</td>\n",
       "      <td>yes</td>\n",
       "      <td>yes</td>\n",
       "      <td>no</td>\n",
       "    </tr>\n",
       "    <tr>\n",
       "      <td>2</td>\n",
<<<<<<< Updated upstream
       "      <td>35,9</td>\n",
=======
       "      <td>35.9</td>\n",
>>>>>>> Stashed changes
       "      <td>no</td>\n",
       "      <td>yes</td>\n",
       "      <td>no</td>\n",
       "      <td>no</td>\n",
       "      <td>no</td>\n",
       "      <td>no</td>\n",
       "      <td>no</td>\n",
       "    </tr>\n",
       "    <tr>\n",
       "      <td>3</td>\n",
<<<<<<< Updated upstream
       "      <td>36,0</td>\n",
=======
       "      <td>36.0</td>\n",
>>>>>>> Stashed changes
       "      <td>no</td>\n",
       "      <td>no</td>\n",
       "      <td>yes</td>\n",
       "      <td>yes</td>\n",
       "      <td>yes</td>\n",
       "      <td>yes</td>\n",
       "      <td>no</td>\n",
       "    </tr>\n",
       "    <tr>\n",
       "      <td>4</td>\n",
<<<<<<< Updated upstream
       "      <td>36,0</td>\n",
=======
       "      <td>36.0</td>\n",
>>>>>>> Stashed changes
       "      <td>no</td>\n",
       "      <td>yes</td>\n",
       "      <td>no</td>\n",
       "      <td>no</td>\n",
       "      <td>no</td>\n",
       "      <td>no</td>\n",
       "      <td>no</td>\n",
       "    </tr>\n",
       "  </tbody>\n",
       "</table>\n",
       "</div>"
      ],
      "text/plain": [
       "  temperatuer nausea lumbar_pain urine_pushing micturition_pains  \\\n",
<<<<<<< Updated upstream
       "0        35,5     no         yes            no                no   \n",
       "1        35,9     no          no           yes               yes   \n",
       "2        35,9     no         yes            no                no   \n",
       "3        36,0     no          no           yes               yes   \n",
       "4        36,0     no         yes            no                no   \n",
=======
       "0        35.5     no         yes            no                no   \n",
       "1        35.9     no          no           yes               yes   \n",
       "2        35.9     no         yes            no                no   \n",
       "3        36.0     no          no           yes               yes   \n",
       "4        36.0     no         yes            no                no   \n",
>>>>>>> Stashed changes
       "\n",
       "  burning_of_urethra inflamation nephritis  \n",
       "0                 no          no        no  \n",
       "1                yes         yes        no  \n",
       "2                 no          no        no  \n",
       "3                yes         yes        no  \n",
       "4                 no          no        no  "
      ]
     },
<<<<<<< Updated upstream
     "execution_count": 7,
=======
     "execution_count": 17,
>>>>>>> Stashed changes
     "metadata": {},
     "output_type": "execute_result"
    }
   ],
   "source": [
    "original_data.head()"
   ]
  },
  {
   "cell_type": "markdown",
   "metadata": {},
   "source": [
    "### Temperatuer 데이터 ,  > . 로 변경"
   ]
  },
  {
   "cell_type": "code",
<<<<<<< Updated upstream
   "execution_count": 28,
=======
   "execution_count": 16,
>>>>>>> Stashed changes
   "metadata": {
    "scrolled": true
   },
   "outputs": [
    {
     "data": {
      "text/html": [
       "<div>\n",
       "<style scoped>\n",
       "    .dataframe tbody tr th:only-of-type {\n",
       "        vertical-align: middle;\n",
       "    }\n",
       "\n",
       "    .dataframe tbody tr th {\n",
       "        vertical-align: top;\n",
       "    }\n",
       "\n",
       "    .dataframe thead th {\n",
       "        text-align: right;\n",
       "    }\n",
       "</style>\n",
       "<table border=\"1\" class=\"dataframe\">\n",
       "  <thead>\n",
       "    <tr style=\"text-align: right;\">\n",
       "      <th></th>\n",
       "      <th>temperatuer</th>\n",
       "      <th>nausea</th>\n",
       "      <th>lumbar_pain</th>\n",
       "      <th>urine_pushing</th>\n",
       "      <th>micturition_pains</th>\n",
       "      <th>burning_of_urethra</th>\n",
       "      <th>inflamation</th>\n",
       "      <th>nephritis</th>\n",
       "    </tr>\n",
       "  </thead>\n",
       "  <tbody>\n",
       "    <tr>\n",
<<<<<<< Updated upstream
       "      <th>0</th>\n",
=======
       "      <td>0</td>\n",
>>>>>>> Stashed changes
       "      <td>35.5</td>\n",
       "      <td>no</td>\n",
       "      <td>yes</td>\n",
       "      <td>no</td>\n",
       "      <td>no</td>\n",
       "      <td>no</td>\n",
       "      <td>no</td>\n",
       "      <td>no</td>\n",
       "    </tr>\n",
       "    <tr>\n",
<<<<<<< Updated upstream
       "      <th>1</th>\n",
=======
       "      <td>1</td>\n",
>>>>>>> Stashed changes
       "      <td>35.9</td>\n",
       "      <td>no</td>\n",
       "      <td>no</td>\n",
       "      <td>yes</td>\n",
       "      <td>yes</td>\n",
       "      <td>yes</td>\n",
       "      <td>yes</td>\n",
       "      <td>no</td>\n",
       "    </tr>\n",
       "    <tr>\n",
<<<<<<< Updated upstream
       "      <th>2</th>\n",
=======
       "      <td>2</td>\n",
>>>>>>> Stashed changes
       "      <td>35.9</td>\n",
       "      <td>no</td>\n",
       "      <td>yes</td>\n",
       "      <td>no</td>\n",
       "      <td>no</td>\n",
       "      <td>no</td>\n",
       "      <td>no</td>\n",
       "      <td>no</td>\n",
       "    </tr>\n",
       "    <tr>\n",
<<<<<<< Updated upstream
       "      <th>3</th>\n",
=======
       "      <td>3</td>\n",
>>>>>>> Stashed changes
       "      <td>36.0</td>\n",
       "      <td>no</td>\n",
       "      <td>no</td>\n",
       "      <td>yes</td>\n",
       "      <td>yes</td>\n",
       "      <td>yes</td>\n",
       "      <td>yes</td>\n",
       "      <td>no</td>\n",
       "    </tr>\n",
       "    <tr>\n",
<<<<<<< Updated upstream
       "      <th>4</th>\n",
=======
       "      <td>4</td>\n",
>>>>>>> Stashed changes
       "      <td>36.0</td>\n",
       "      <td>no</td>\n",
       "      <td>yes</td>\n",
       "      <td>no</td>\n",
       "      <td>no</td>\n",
       "      <td>no</td>\n",
       "      <td>no</td>\n",
       "      <td>no</td>\n",
       "    </tr>\n",
       "  </tbody>\n",
       "</table>\n",
       "</div>"
      ],
      "text/plain": [
       "  temperatuer nausea lumbar_pain urine_pushing micturition_pains  \\\n",
       "0        35.5     no         yes            no                no   \n",
       "1        35.9     no          no           yes               yes   \n",
       "2        35.9     no         yes            no                no   \n",
       "3        36.0     no          no           yes               yes   \n",
       "4        36.0     no         yes            no                no   \n",
       "\n",
       "  burning_of_urethra inflamation nephritis  \n",
       "0                 no          no        no  \n",
       "1                yes         yes        no  \n",
       "2                 no          no        no  \n",
       "3                yes         yes        no  \n",
       "4                 no          no        no  "
      ]
     },
<<<<<<< Updated upstream
     "execution_count": 28,
=======
     "execution_count": 16,
>>>>>>> Stashed changes
     "metadata": {},
     "output_type": "execute_result"
    }
   ],
   "source": [
    "original_data['temperatuer'] = original_data['temperatuer'].apply(lambda x: x.replace(',','.'))\n",
    "original_data.head()"
   ]
  },
  {
   "cell_type": "markdown",
   "metadata": {},
   "source": [
    "# 모델 사용 sklearn"
   ]
  },
  {
   "cell_type": "markdown",
   "metadata": {},
   "source": [
    "이걸 사용하려면 Nominal (categorical) 값인 attribute 를 다 숫자로 변경해줘야 한다.\n",
    "\n",
    "쉽게 말해서\n",
    "string > int 변경"
   ]
  },
  {
   "cell_type": "code",
<<<<<<< Updated upstream
   "execution_count": 29,
=======
   "execution_count": 27,
>>>>>>> Stashed changes
   "metadata": {},
   "outputs": [
    {
     "name": "stdout",
     "output_type": "stream",
     "text": [
      "['no' 'yes']\n",
      "[0 1 1]\n",
      "['no' 'no' 'yes']\n"
     ]
    }
   ],
   "source": [
<<<<<<< Updated upstream
    "from sklearn import preprocessing # 전처리 모듈\n",
    "\n",
    "le_nausea = preprocessing.LabelEncoder() # 0에서 1사이로 변경\n",
    "\n",
    "# LabelEncoder() \n",
    "# 칼럼을 번호로 변경해주는 클래스\n",
    "# 분류 모델에 레이블 변환에 상용된다.\n",
    "\n",
=======
    "from sklearn import preprocessing\n",
    "\n",
    "le_nausea = preprocessing.LabelEncoder() # 0에서 1사이로 변경\n",
    "\n",
>>>>>>> Stashed changes
    "le_nausea.fit(original_data['nausea'])\n",
    "\n",
    "print(le_nausea.classes_)\n",
    "print(le_nausea.transform(['no', 'yes', 'yes'])) # 현재 칼럼의 값\n",
    "print(le_nausea.inverse_transform([0, 0, 1])) # 수정할 값"
   ]
  },
  {
   "cell_type": "markdown",
   "metadata": {},
   "source": [
    "## 데이터 범주를 숫자형으로 변경"
   ]
  },
  {
   "cell_type": "code",
<<<<<<< Updated upstream
   "execution_count": 30,
   "metadata": {
    "scrolled": true
   },
=======
   "execution_count": 36,
   "metadata": {},
>>>>>>> Stashed changes
   "outputs": [
    {
     "data": {
      "text/html": [
       "<div>\n",
       "<style scoped>\n",
       "    .dataframe tbody tr th:only-of-type {\n",
       "        vertical-align: middle;\n",
       "    }\n",
       "\n",
       "    .dataframe tbody tr th {\n",
       "        vertical-align: top;\n",
       "    }\n",
       "\n",
       "    .dataframe thead th {\n",
       "        text-align: right;\n",
       "    }\n",
       "</style>\n",
       "<table border=\"1\" class=\"dataframe\">\n",
       "  <thead>\n",
       "    <tr style=\"text-align: right;\">\n",
       "      <th></th>\n",
       "      <th>temperatuer</th>\n",
       "      <th>nausea</th>\n",
       "      <th>lumbar_pain</th>\n",
       "      <th>urine_pushing</th>\n",
       "      <th>micturition_pains</th>\n",
       "      <th>burning_of_urethra</th>\n",
       "      <th>inflamation</th>\n",
       "      <th>nephritis</th>\n",
       "    </tr>\n",
       "  </thead>\n",
       "  <tbody>\n",
       "    <tr>\n",
<<<<<<< Updated upstream
       "      <th>0</th>\n",
=======
       "      <td>0</td>\n",
>>>>>>> Stashed changes
       "      <td>35.5</td>\n",
       "      <td>0</td>\n",
       "      <td>yes</td>\n",
       "      <td>no</td>\n",
       "      <td>no</td>\n",
       "      <td>no</td>\n",
       "      <td>no</td>\n",
       "      <td>no</td>\n",
       "    </tr>\n",
       "    <tr>\n",
<<<<<<< Updated upstream
       "      <th>1</th>\n",
=======
       "      <td>1</td>\n",
>>>>>>> Stashed changes
       "      <td>35.9</td>\n",
       "      <td>0</td>\n",
       "      <td>no</td>\n",
       "      <td>yes</td>\n",
       "      <td>yes</td>\n",
       "      <td>yes</td>\n",
       "      <td>yes</td>\n",
       "      <td>no</td>\n",
       "    </tr>\n",
       "    <tr>\n",
<<<<<<< Updated upstream
       "      <th>2</th>\n",
=======
       "      <td>2</td>\n",
>>>>>>> Stashed changes
       "      <td>35.9</td>\n",
       "      <td>0</td>\n",
       "      <td>yes</td>\n",
       "      <td>no</td>\n",
       "      <td>no</td>\n",
       "      <td>no</td>\n",
       "      <td>no</td>\n",
       "      <td>no</td>\n",
       "    </tr>\n",
       "    <tr>\n",
<<<<<<< Updated upstream
       "      <th>3</th>\n",
=======
       "      <td>3</td>\n",
>>>>>>> Stashed changes
       "      <td>36.0</td>\n",
       "      <td>0</td>\n",
       "      <td>no</td>\n",
       "      <td>yes</td>\n",
       "      <td>yes</td>\n",
       "      <td>yes</td>\n",
       "      <td>yes</td>\n",
       "      <td>no</td>\n",
       "    </tr>\n",
       "    <tr>\n",
<<<<<<< Updated upstream
       "      <th>4</th>\n",
=======
       "      <td>4</td>\n",
>>>>>>> Stashed changes
       "      <td>36.0</td>\n",
       "      <td>0</td>\n",
       "      <td>yes</td>\n",
       "      <td>no</td>\n",
       "      <td>no</td>\n",
       "      <td>no</td>\n",
       "      <td>no</td>\n",
       "      <td>no</td>\n",
       "    </tr>\n",
       "  </tbody>\n",
       "</table>\n",
       "</div>"
      ],
      "text/plain": [
       "  temperatuer  nausea lumbar_pain urine_pushing micturition_pains  \\\n",
       "0        35.5       0         yes            no                no   \n",
       "1        35.9       0          no           yes               yes   \n",
       "2        35.9       0         yes            no                no   \n",
       "3        36.0       0          no           yes               yes   \n",
       "4        36.0       0         yes            no                no   \n",
       "\n",
       "  burning_of_urethra inflamation nephritis  \n",
       "0                 no          no        no  \n",
       "1                yes         yes        no  \n",
       "2                 no          no        no  \n",
       "3                yes         yes        no  \n",
       "4                 no          no        no  "
      ]
     },
<<<<<<< Updated upstream
     "execution_count": 30,
=======
     "execution_count": 36,
>>>>>>> Stashed changes
     "metadata": {},
     "output_type": "execute_result"
    }
   ],
   "source": [
    "dicted_data = original_data.copy()\n",
    "dicted_data['nausea'] = le_nausea.transform(dicted_data['nausea'])\n",
    "\n",
    "dicted_data.head()"
   ]
  },
  {
   "cell_type": "markdown",
   "metadata": {},
   "source": [
    "## 다른 칼럼도 적용"
   ]
  },
  {
   "cell_type": "code",
<<<<<<< Updated upstream
   "execution_count": 31,
=======
   "execution_count": 44,
>>>>>>> Stashed changes
   "metadata": {},
   "outputs": [
    {
     "data": {
      "text/html": [
       "<div>\n",
       "<style scoped>\n",
       "    .dataframe tbody tr th:only-of-type {\n",
       "        vertical-align: middle;\n",
       "    }\n",
       "\n",
       "    .dataframe tbody tr th {\n",
       "        vertical-align: top;\n",
       "    }\n",
       "\n",
       "    .dataframe thead th {\n",
       "        text-align: right;\n",
       "    }\n",
       "</style>\n",
       "<table border=\"1\" class=\"dataframe\">\n",
       "  <thead>\n",
       "    <tr style=\"text-align: right;\">\n",
       "      <th></th>\n",
       "      <th>temperatuer</th>\n",
       "      <th>nausea</th>\n",
       "      <th>lumbar_pain</th>\n",
       "      <th>urine_pushing</th>\n",
       "      <th>micturition_pains</th>\n",
       "      <th>burning_of_urethra</th>\n",
       "      <th>inflamation</th>\n",
       "      <th>nephritis</th>\n",
       "    </tr>\n",
       "  </thead>\n",
       "  <tbody>\n",
       "    <tr>\n",
<<<<<<< Updated upstream
       "      <th>0</th>\n",
=======
       "      <td>0</td>\n",
>>>>>>> Stashed changes
       "      <td>35.5</td>\n",
       "      <td>0</td>\n",
       "      <td>1</td>\n",
       "      <td>0</td>\n",
       "      <td>0</td>\n",
       "      <td>0</td>\n",
       "      <td>0</td>\n",
       "      <td>0</td>\n",
       "    </tr>\n",
       "    <tr>\n",
<<<<<<< Updated upstream
       "      <th>1</th>\n",
=======
       "      <td>1</td>\n",
>>>>>>> Stashed changes
       "      <td>35.9</td>\n",
       "      <td>0</td>\n",
       "      <td>0</td>\n",
       "      <td>1</td>\n",
       "      <td>1</td>\n",
       "      <td>1</td>\n",
       "      <td>1</td>\n",
       "      <td>0</td>\n",
       "    </tr>\n",
       "    <tr>\n",
<<<<<<< Updated upstream
       "      <th>2</th>\n",
=======
       "      <td>2</td>\n",
>>>>>>> Stashed changes
       "      <td>35.9</td>\n",
       "      <td>0</td>\n",
       "      <td>1</td>\n",
       "      <td>0</td>\n",
       "      <td>0</td>\n",
       "      <td>0</td>\n",
       "      <td>0</td>\n",
       "      <td>0</td>\n",
       "    </tr>\n",
       "    <tr>\n",
<<<<<<< Updated upstream
       "      <th>3</th>\n",
=======
       "      <td>3</td>\n",
>>>>>>> Stashed changes
       "      <td>36.0</td>\n",
       "      <td>0</td>\n",
       "      <td>0</td>\n",
       "      <td>1</td>\n",
       "      <td>1</td>\n",
       "      <td>1</td>\n",
       "      <td>1</td>\n",
       "      <td>0</td>\n",
       "    </tr>\n",
       "    <tr>\n",
<<<<<<< Updated upstream
       "      <th>4</th>\n",
=======
       "      <td>4</td>\n",
>>>>>>> Stashed changes
       "      <td>36.0</td>\n",
       "      <td>0</td>\n",
       "      <td>1</td>\n",
       "      <td>0</td>\n",
       "      <td>0</td>\n",
       "      <td>0</td>\n",
       "      <td>0</td>\n",
       "      <td>0</td>\n",
       "    </tr>\n",
       "  </tbody>\n",
       "</table>\n",
       "</div>"
      ],
      "text/plain": [
       "  temperatuer  nausea  lumbar_pain  urine_pushing  micturition_pains  \\\n",
       "0        35.5       0            1              0                  0   \n",
       "1        35.9       0            0              1                  1   \n",
       "2        35.9       0            1              0                  0   \n",
       "3        36.0       0            0              1                  1   \n",
       "4        36.0       0            1              0                  0   \n",
       "\n",
       "   burning_of_urethra  inflamation  nephritis  \n",
       "0                   0            0          0  \n",
       "1                   1            1          0  \n",
       "2                   0            0          0  \n",
       "3                   1            1          0  \n",
       "4                   0            0          0  "
      ]
     },
<<<<<<< Updated upstream
     "execution_count": 31,
=======
     "execution_count": 44,
>>>>>>> Stashed changes
     "metadata": {},
     "output_type": "execute_result"
    }
   ],
   "source": [
    "tmp = [ 'lumbar_pain'\n",
    "      , 'urine_pushing'\n",
    "      , 'micturition_pains'\n",
    "      , 'burning_of_urethra'\n",
    "      , 'inflamation'\n",
<<<<<<< Updated upstream
    "      , 'nephritis' ]\n",
=======
    "      , 'nephritis']\n",
>>>>>>> Stashed changes
    "\n",
    "les = {'nausea' : le_nausea}\n",
    "\n",
    "for x in tmp:\n",
    "    les[x] = preprocessing.LabelEncoder()\n",
    "    dicted_data[x] = les[x].fit_transform(original_data[x])\n",
    "\n",
    "dicted_data.head()"
   ]
  },
  {
   "cell_type": "code",
<<<<<<< Updated upstream
   "execution_count": 32,
=======
   "execution_count": 46,
>>>>>>> Stashed changes
   "metadata": {},
   "outputs": [
    {
     "name": "stdout",
     "output_type": "stream",
     "text": [
      "{'nausea': LabelEncoder(), 'lumbar_pain': LabelEncoder(), 'urine_pushing': LabelEncoder(), 'micturition_pains': LabelEncoder(), 'burning_of_urethra': LabelEncoder(), 'inflamation': LabelEncoder(), 'nephritis': LabelEncoder()}\n"
     ]
    }
   ],
   "source": [
    "print(les)"
   ]
  },
  {
   "cell_type": "markdown",
   "metadata": {},
   "source": [
    "## x, y 모양 확인"
   ]
  },
  {
   "cell_type": "code",
<<<<<<< Updated upstream
   "execution_count": 33,
=======
   "execution_count": 49,
>>>>>>> Stashed changes
   "metadata": {},
   "outputs": [],
   "source": [
    "from sklearn.tree import DecisionTreeClassifier, export_graphviz\n",
    "from sklearn import tree\n",
    "\n",
    "y = dicted_data['inflamation']\n",
    "\n",
    "features = ['temperatuer']\n",
    "x = dicted_data[features]\n",
    "\n",
    "model = DecisionTreeClassifier(min_samples_split=20, random_state=99)"
   ]
  },
  {
   "cell_type": "markdown",
   "metadata": {},
   "source": [
    "y 데이터 확인"
   ]
  },
  {
   "cell_type": "code",
<<<<<<< Updated upstream
   "execution_count": 34,
=======
   "execution_count": 51,
>>>>>>> Stashed changes
   "metadata": {},
   "outputs": [
    {
     "data": {
      "text/plain": [
       "0    0\n",
       "1    1\n",
       "2    0\n",
       "3    1\n",
       "4    0\n",
<<<<<<< Updated upstream
       "Name: inflamation, dtype: int32"
      ]
     },
     "execution_count": 34,
=======
       "Name: inflamation, dtype: int64"
      ]
     },
     "execution_count": 51,
>>>>>>> Stashed changes
     "metadata": {},
     "output_type": "execute_result"
    }
   ],
   "source": [
    "y.head() # inflamation"
   ]
  },
  {
   "cell_type": "markdown",
   "metadata": {},
   "source": [
    "x 데이터 확인"
   ]
  },
  {
   "cell_type": "code",
<<<<<<< Updated upstream
   "execution_count": 35,
=======
   "execution_count": 52,
>>>>>>> Stashed changes
   "metadata": {},
   "outputs": [
    {
     "data": {
      "text/html": [
       "<div>\n",
       "<style scoped>\n",
       "    .dataframe tbody tr th:only-of-type {\n",
       "        vertical-align: middle;\n",
       "    }\n",
       "\n",
       "    .dataframe tbody tr th {\n",
       "        vertical-align: top;\n",
       "    }\n",
       "\n",
       "    .dataframe thead th {\n",
       "        text-align: right;\n",
       "    }\n",
       "</style>\n",
       "<table border=\"1\" class=\"dataframe\">\n",
       "  <thead>\n",
       "    <tr style=\"text-align: right;\">\n",
       "      <th></th>\n",
       "      <th>temperatuer</th>\n",
       "    </tr>\n",
       "  </thead>\n",
       "  <tbody>\n",
       "    <tr>\n",
<<<<<<< Updated upstream
       "      <th>0</th>\n",
       "      <td>35.5</td>\n",
       "    </tr>\n",
       "    <tr>\n",
       "      <th>1</th>\n",
       "      <td>35.9</td>\n",
       "    </tr>\n",
       "    <tr>\n",
       "      <th>2</th>\n",
       "      <td>35.9</td>\n",
       "    </tr>\n",
       "    <tr>\n",
       "      <th>3</th>\n",
       "      <td>36.0</td>\n",
       "    </tr>\n",
       "    <tr>\n",
       "      <th>4</th>\n",
=======
       "      <td>0</td>\n",
       "      <td>35.5</td>\n",
       "    </tr>\n",
       "    <tr>\n",
       "      <td>1</td>\n",
       "      <td>35.9</td>\n",
       "    </tr>\n",
       "    <tr>\n",
       "      <td>2</td>\n",
       "      <td>35.9</td>\n",
       "    </tr>\n",
       "    <tr>\n",
       "      <td>3</td>\n",
       "      <td>36.0</td>\n",
       "    </tr>\n",
       "    <tr>\n",
       "      <td>4</td>\n",
>>>>>>> Stashed changes
       "      <td>36.0</td>\n",
       "    </tr>\n",
       "  </tbody>\n",
       "</table>\n",
       "</div>"
      ],
      "text/plain": [
       "  temperatuer\n",
       "0        35.5\n",
       "1        35.9\n",
       "2        35.9\n",
       "3        36.0\n",
       "4        36.0"
      ]
     },
<<<<<<< Updated upstream
     "execution_count": 35,
=======
     "execution_count": 52,
>>>>>>> Stashed changes
     "metadata": {},
     "output_type": "execute_result"
    }
   ],
   "source": [
    "x.head() # temperatuer"
   ]
  },
  {
   "cell_type": "markdown",
   "metadata": {},
   "source": [
    "### 학습 적용"
   ]
  },
  {
   "cell_type": "code",
<<<<<<< Updated upstream
   "execution_count": 36,
=======
   "execution_count": 53,
>>>>>>> Stashed changes
   "metadata": {},
   "outputs": [
    {
     "data": {
      "text/plain": [
<<<<<<< Updated upstream
       "DecisionTreeClassifier(min_samples_split=20, random_state=99)"
      ]
     },
     "execution_count": 36,
=======
       "DecisionTreeClassifier(class_weight=None, criterion='gini', max_depth=None,\n",
       "                       max_features=None, max_leaf_nodes=None,\n",
       "                       min_impurity_decrease=0.0, min_impurity_split=None,\n",
       "                       min_samples_leaf=1, min_samples_split=20,\n",
       "                       min_weight_fraction_leaf=0.0, presort=False,\n",
       "                       random_state=99, splitter='best')"
      ]
     },
     "execution_count": 53,
>>>>>>> Stashed changes
     "metadata": {},
     "output_type": "execute_result"
    }
   ],
   "source": [
    "model.fit(x,y)"
   ]
  },
  {
   "cell_type": "markdown",
   "metadata": {},
   "source": [
    "## 시각화 하기"
   ]
  },
  {
   "cell_type": "code",
<<<<<<< Updated upstream
   "execution_count": 37,
   "metadata": {},
   "outputs": [
    {
     "name": "stdout",
     "output_type": "stream",
     "text": [
      "temperatuer\n"
     ]
    },
    {
     "data": {
      "image/svg+xml": [
       "<svg xmlns=\"http://www.w3.org/2000/svg\" xmlns:xlink=\"http://www.w3.org/1999/xlink\" width=\"639pt\" height=\"1028pt\" viewBox=\"0.00 0.00 639.00 1028.00\">\n",
       "<g id=\"graph0\" class=\"graph\" transform=\"scale(1 1) rotate(0) translate(4 1024)\">\n",
       "<title>Tree</title>\n",
       "<polygon fill=\"white\" stroke=\"transparent\" points=\"-4,4 -4,-1024 635,-1024 635,4 -4,4\"/>\n",
       "<!-- 0 -->\n",
       "<g id=\"node1\" class=\"node\">\n",
       "<title>0</title>\n",
       "<polygon fill=\"#fefbf9\" stroke=\"black\" points=\"320,-1020 183,-1020 183,-937 320,-937 320,-1020\"/>\n",
       "<text text-anchor=\"middle\" x=\"251.5\" y=\"-1004.8\" font-family=\"Times New Roman,serif\" font-size=\"14.00\">temperatuer &lt;= 37.95</text>\n",
       "<text text-anchor=\"middle\" x=\"251.5\" y=\"-989.8\" font-family=\"Times New Roman,serif\" font-size=\"14.00\">gini = 0.5</text>\n",
       "<text text-anchor=\"middle\" x=\"251.5\" y=\"-974.8\" font-family=\"Times New Roman,serif\" font-size=\"14.00\">samples = 120</text>\n",
       "<text text-anchor=\"middle\" x=\"251.5\" y=\"-959.8\" font-family=\"Times New Roman,serif\" font-size=\"14.00\">value = [61, 59]</text>\n",
       "<text text-anchor=\"middle\" x=\"251.5\" y=\"-944.8\" font-family=\"Times New Roman,serif\" font-size=\"14.00\">class = no</text>\n",
       "</g>\n",
       "<!-- 1 -->\n",
       "<g id=\"node2\" class=\"node\">\n",
       "<title>1</title>\n",
       "<polygon fill=\"#9ccef2\" stroke=\"black\" points=\"243,-901 106,-901 106,-818 243,-818 243,-901\"/>\n",
       "<text text-anchor=\"middle\" x=\"174.5\" y=\"-885.8\" font-family=\"Times New Roman,serif\" font-size=\"14.00\">temperatuer &lt;= 36.75</text>\n",
       "<text text-anchor=\"middle\" x=\"174.5\" y=\"-870.8\" font-family=\"Times New Roman,serif\" font-size=\"14.00\">gini = 0.444</text>\n",
       "<text text-anchor=\"middle\" x=\"174.5\" y=\"-855.8\" font-family=\"Times New Roman,serif\" font-size=\"14.00\">samples = 60</text>\n",
       "<text text-anchor=\"middle\" x=\"174.5\" y=\"-840.8\" font-family=\"Times New Roman,serif\" font-size=\"14.00\">value = [20, 40]</text>\n",
       "<text text-anchor=\"middle\" x=\"174.5\" y=\"-825.8\" font-family=\"Times New Roman,serif\" font-size=\"14.00\">class = yes</text>\n",
       "</g>\n",
       "<!-- 0&#45;&gt;1 -->\n",
       "<g id=\"edge1\" class=\"edge\">\n",
       "<title>0-&gt;1</title>\n",
       "<path fill=\"none\" stroke=\"black\" d=\"M224.79,-936.91C218.99,-928.1 212.8,-918.7 206.82,-909.61\"/>\n",
       "<polygon fill=\"black\" stroke=\"black\" points=\"209.59,-907.45 201.17,-901.02 203.74,-911.3 209.59,-907.45\"/>\n",
       "<text text-anchor=\"middle\" x=\"196.12\" y=\"-921.81\" font-family=\"Times New Roman,serif\" font-size=\"14.00\">True</text>\n",
       "</g>\n",
       "<!-- 12 -->\n",
       "<g id=\"node13\" class=\"node\">\n",
       "<title>12</title>\n",
       "<polygon fill=\"#f1bb95\" stroke=\"black\" points=\"398,-901 261,-901 261,-818 398,-818 398,-901\"/>\n",
       "<text text-anchor=\"middle\" x=\"329.5\" y=\"-885.8\" font-family=\"Times New Roman,serif\" font-size=\"14.00\">temperatuer &lt;= 39.85</text>\n",
       "<text text-anchor=\"middle\" x=\"329.5\" y=\"-870.8\" font-family=\"Times New Roman,serif\" font-size=\"14.00\">gini = 0.433</text>\n",
       "<text text-anchor=\"middle\" x=\"329.5\" y=\"-855.8\" font-family=\"Times New Roman,serif\" font-size=\"14.00\">samples = 60</text>\n",
       "<text text-anchor=\"middle\" x=\"329.5\" y=\"-840.8\" font-family=\"Times New Roman,serif\" font-size=\"14.00\">value = [41, 19]</text>\n",
       "<text text-anchor=\"middle\" x=\"329.5\" y=\"-825.8\" font-family=\"Times New Roman,serif\" font-size=\"14.00\">class = no</text>\n",
       "</g>\n",
       "<!-- 0&#45;&gt;12 -->\n",
       "<g id=\"edge12\" class=\"edge\">\n",
       "<title>0-&gt;12</title>\n",
       "<path fill=\"none\" stroke=\"black\" d=\"M278.56,-936.91C284.43,-928.1 290.7,-918.7 296.76,-909.61\"/>\n",
       "<polygon fill=\"black\" stroke=\"black\" points=\"299.85,-911.28 302.49,-901.02 294.03,-907.4 299.85,-911.28\"/>\n",
       "<text text-anchor=\"middle\" x=\"307.39\" y=\"-921.84\" font-family=\"Times New Roman,serif\" font-size=\"14.00\">False</text>\n",
       "</g>\n",
       "<!-- 2 -->\n",
       "<g id=\"node3\" class=\"node\">\n",
       "<title>2</title>\n",
       "<polygon fill=\"#f9e3d3\" stroke=\"black\" points=\"91,-774.5 0,-774.5 0,-706.5 91,-706.5 91,-774.5\"/>\n",
       "<text text-anchor=\"middle\" x=\"45.5\" y=\"-759.3\" font-family=\"Times New Roman,serif\" font-size=\"14.00\">gini = 0.492</text>\n",
       "<text text-anchor=\"middle\" x=\"45.5\" y=\"-744.3\" font-family=\"Times New Roman,serif\" font-size=\"14.00\">samples = 16</text>\n",
       "<text text-anchor=\"middle\" x=\"45.5\" y=\"-729.3\" font-family=\"Times New Roman,serif\" font-size=\"14.00\">value = [9, 7]</text>\n",
       "<text text-anchor=\"middle\" x=\"45.5\" y=\"-714.3\" font-family=\"Times New Roman,serif\" font-size=\"14.00\">class = no</text>\n",
       "</g>\n",
       "<!-- 1&#45;&gt;2 -->\n",
       "<g id=\"edge2\" class=\"edge\">\n",
       "<title>1-&gt;2</title>\n",
       "<path fill=\"none\" stroke=\"black\" d=\"M129.74,-817.91C116.73,-806.1 102.52,-793.22 89.55,-781.45\"/>\n",
       "<polygon fill=\"black\" stroke=\"black\" points=\"91.83,-778.79 82.07,-774.67 87.12,-783.98 91.83,-778.79\"/>\n",
       "</g>\n",
       "<!-- 3 -->\n",
       "<g id=\"node4\" class=\"node\">\n",
       "<title>3</title>\n",
       "<polygon fill=\"#7bbeee\" stroke=\"black\" points=\"246,-782 109,-782 109,-699 246,-699 246,-782\"/>\n",
       "<text text-anchor=\"middle\" x=\"177.5\" y=\"-766.8\" font-family=\"Times New Roman,serif\" font-size=\"14.00\">temperatuer &lt;= 36.85</text>\n",
       "<text text-anchor=\"middle\" x=\"177.5\" y=\"-751.8\" font-family=\"Times New Roman,serif\" font-size=\"14.00\">gini = 0.375</text>\n",
       "<text text-anchor=\"middle\" x=\"177.5\" y=\"-736.8\" font-family=\"Times New Roman,serif\" font-size=\"14.00\">samples = 44</text>\n",
       "<text text-anchor=\"middle\" x=\"177.5\" y=\"-721.8\" font-family=\"Times New Roman,serif\" font-size=\"14.00\">value = [11, 33]</text>\n",
       "<text text-anchor=\"middle\" x=\"177.5\" y=\"-706.8\" font-family=\"Times New Roman,serif\" font-size=\"14.00\">class = yes</text>\n",
       "</g>\n",
       "<!-- 1&#45;&gt;3 -->\n",
       "<g id=\"edge3\" class=\"edge\">\n",
       "<title>1-&gt;3</title>\n",
       "<path fill=\"none\" stroke=\"black\" d=\"M175.54,-817.91C175.75,-809.56 175.98,-800.67 176.2,-792.02\"/>\n",
       "<polygon fill=\"black\" stroke=\"black\" points=\"179.7,-792.11 176.46,-782.02 172.71,-791.93 179.7,-792.11\"/>\n",
       "</g>\n",
       "<!-- 4 -->\n",
       "<g id=\"node5\" class=\"node\">\n",
       "<title>4</title>\n",
       "<polygon fill=\"#399de5\" stroke=\"black\" points=\"97,-655.5 6,-655.5 6,-587.5 97,-587.5 97,-655.5\"/>\n",
       "<text text-anchor=\"middle\" x=\"51.5\" y=\"-640.3\" font-family=\"Times New Roman,serif\" font-size=\"14.00\">gini = 0.0</text>\n",
       "<text text-anchor=\"middle\" x=\"51.5\" y=\"-625.3\" font-family=\"Times New Roman,serif\" font-size=\"14.00\">samples = 2</text>\n",
       "<text text-anchor=\"middle\" x=\"51.5\" y=\"-610.3\" font-family=\"Times New Roman,serif\" font-size=\"14.00\">value = [0, 2]</text>\n",
       "<text text-anchor=\"middle\" x=\"51.5\" y=\"-595.3\" font-family=\"Times New Roman,serif\" font-size=\"14.00\">class = yes</text>\n",
       "</g>\n",
       "<!-- 3&#45;&gt;4 -->\n",
       "<g id=\"edge4\" class=\"edge\">\n",
       "<title>3-&gt;4</title>\n",
       "<path fill=\"none\" stroke=\"black\" d=\"M133.78,-698.91C121.19,-687.21 107.45,-674.46 94.88,-662.78\"/>\n",
       "<polygon fill=\"black\" stroke=\"black\" points=\"96.93,-659.91 87.22,-655.67 92.16,-665.04 96.93,-659.91\"/>\n",
       "</g>\n",
       "<!-- 5 -->\n",
       "<g id=\"node6\" class=\"node\">\n",
       "<title>5</title>\n",
       "<polygon fill=\"#7fc0ee\" stroke=\"black\" points=\"252,-663 115,-663 115,-580 252,-580 252,-663\"/>\n",
       "<text text-anchor=\"middle\" x=\"183.5\" y=\"-647.8\" font-family=\"Times New Roman,serif\" font-size=\"14.00\">temperatuer &lt;= 36.95</text>\n",
       "<text text-anchor=\"middle\" x=\"183.5\" y=\"-632.8\" font-family=\"Times New Roman,serif\" font-size=\"14.00\">gini = 0.387</text>\n",
       "<text text-anchor=\"middle\" x=\"183.5\" y=\"-617.8\" font-family=\"Times New Roman,serif\" font-size=\"14.00\">samples = 42</text>\n",
       "<text text-anchor=\"middle\" x=\"183.5\" y=\"-602.8\" font-family=\"Times New Roman,serif\" font-size=\"14.00\">value = [11, 31]</text>\n",
       "<text text-anchor=\"middle\" x=\"183.5\" y=\"-587.8\" font-family=\"Times New Roman,serif\" font-size=\"14.00\">class = yes</text>\n",
       "</g>\n",
       "<!-- 3&#45;&gt;5 -->\n",
       "<g id=\"edge5\" class=\"edge\">\n",
       "<title>3-&gt;5</title>\n",
       "<path fill=\"none\" stroke=\"black\" d=\"M179.58,-698.91C180.01,-690.56 180.47,-681.67 180.91,-673.02\"/>\n",
       "<polygon fill=\"black\" stroke=\"black\" points=\"184.41,-673.19 181.42,-663.02 177.41,-672.83 184.41,-673.19\"/>\n",
       "</g>\n",
       "<!-- 6 -->\n",
       "<g id=\"node7\" class=\"node\">\n",
       "<title>6</title>\n",
       "<polygon fill=\"#ffffff\" stroke=\"black\" points=\"99,-536.5 8,-536.5 8,-468.5 99,-468.5 99,-536.5\"/>\n",
       "<text text-anchor=\"middle\" x=\"53.5\" y=\"-521.3\" font-family=\"Times New Roman,serif\" font-size=\"14.00\">gini = 0.5</text>\n",
       "<text text-anchor=\"middle\" x=\"53.5\" y=\"-506.3\" font-family=\"Times New Roman,serif\" font-size=\"14.00\">samples = 2</text>\n",
       "<text text-anchor=\"middle\" x=\"53.5\" y=\"-491.3\" font-family=\"Times New Roman,serif\" font-size=\"14.00\">value = [1, 1]</text>\n",
       "<text text-anchor=\"middle\" x=\"53.5\" y=\"-476.3\" font-family=\"Times New Roman,serif\" font-size=\"14.00\">class = no</text>\n",
       "</g>\n",
       "<!-- 5&#45;&gt;6 -->\n",
       "<g id=\"edge6\" class=\"edge\">\n",
       "<title>5-&gt;6</title>\n",
       "<path fill=\"none\" stroke=\"black\" d=\"M138.4,-579.91C125.28,-568.1 110.96,-555.22 97.89,-543.45\"/>\n",
       "<polygon fill=\"black\" stroke=\"black\" points=\"100.13,-540.76 90.35,-536.67 95.44,-545.96 100.13,-540.76\"/>\n",
       "</g>\n",
       "<!-- 7 -->\n",
       "<g id=\"node8\" class=\"node\">\n",
       "<title>7</title>\n",
       "<polygon fill=\"#7bbeee\" stroke=\"black\" points=\"254,-544 117,-544 117,-461 254,-461 254,-544\"/>\n",
       "<text text-anchor=\"middle\" x=\"185.5\" y=\"-528.8\" font-family=\"Times New Roman,serif\" font-size=\"14.00\">temperatuer &lt;= 37.05</text>\n",
       "<text text-anchor=\"middle\" x=\"185.5\" y=\"-513.8\" font-family=\"Times New Roman,serif\" font-size=\"14.00\">gini = 0.375</text>\n",
       "<text text-anchor=\"middle\" x=\"185.5\" y=\"-498.8\" font-family=\"Times New Roman,serif\" font-size=\"14.00\">samples = 40</text>\n",
       "<text text-anchor=\"middle\" x=\"185.5\" y=\"-483.8\" font-family=\"Times New Roman,serif\" font-size=\"14.00\">value = [10, 30]</text>\n",
       "<text text-anchor=\"middle\" x=\"185.5\" y=\"-468.8\" font-family=\"Times New Roman,serif\" font-size=\"14.00\">class = yes</text>\n",
       "</g>\n",
       "<!-- 5&#45;&gt;7 -->\n",
       "<g id=\"edge7\" class=\"edge\">\n",
       "<title>5-&gt;7</title>\n",
       "<path fill=\"none\" stroke=\"black\" d=\"M184.19,-579.91C184.34,-571.56 184.49,-562.67 184.64,-554.02\"/>\n",
       "<polygon fill=\"black\" stroke=\"black\" points=\"188.14,-554.08 184.81,-544.02 181.14,-553.96 188.14,-554.08\"/>\n",
       "</g>\n",
       "<!-- 8 -->\n",
       "<g id=\"node9\" class=\"node\">\n",
       "<title>8</title>\n",
       "<polygon fill=\"#55abe9\" stroke=\"black\" points=\"131,-417.5 40,-417.5 40,-349.5 131,-349.5 131,-417.5\"/>\n",
       "<text text-anchor=\"middle\" x=\"85.5\" y=\"-402.3\" font-family=\"Times New Roman,serif\" font-size=\"14.00\">gini = 0.219</text>\n",
       "<text text-anchor=\"middle\" x=\"85.5\" y=\"-387.3\" font-family=\"Times New Roman,serif\" font-size=\"14.00\">samples = 8</text>\n",
       "<text text-anchor=\"middle\" x=\"85.5\" y=\"-372.3\" font-family=\"Times New Roman,serif\" font-size=\"14.00\">value = [1, 7]</text>\n",
       "<text text-anchor=\"middle\" x=\"85.5\" y=\"-357.3\" font-family=\"Times New Roman,serif\" font-size=\"14.00\">class = yes</text>\n",
       "</g>\n",
       "<!-- 7&#45;&gt;8 -->\n",
       "<g id=\"edge8\" class=\"edge\">\n",
       "<title>7-&gt;8</title>\n",
       "<path fill=\"none\" stroke=\"black\" d=\"M150.81,-460.91C141,-449.43 130.32,-436.94 120.49,-425.44\"/>\n",
       "<polygon fill=\"black\" stroke=\"black\" points=\"123.01,-422.99 113.85,-417.67 117.68,-427.54 123.01,-422.99\"/>\n",
       "</g>\n",
       "<!-- 9 -->\n",
       "<g id=\"node10\" class=\"node\">\n",
       "<title>9</title>\n",
       "<polygon fill=\"#86c3ef\" stroke=\"black\" points=\"286,-425 149,-425 149,-342 286,-342 286,-425\"/>\n",
       "<text text-anchor=\"middle\" x=\"217.5\" y=\"-409.8\" font-family=\"Times New Roman,serif\" font-size=\"14.00\">temperatuer &lt;= 37.55</text>\n",
       "<text text-anchor=\"middle\" x=\"217.5\" y=\"-394.8\" font-family=\"Times New Roman,serif\" font-size=\"14.00\">gini = 0.404</text>\n",
       "<text text-anchor=\"middle\" x=\"217.5\" y=\"-379.8\" font-family=\"Times New Roman,serif\" font-size=\"14.00\">samples = 32</text>\n",
       "<text text-anchor=\"middle\" x=\"217.5\" y=\"-364.8\" font-family=\"Times New Roman,serif\" font-size=\"14.00\">value = [9, 23]</text>\n",
       "<text text-anchor=\"middle\" x=\"217.5\" y=\"-349.8\" font-family=\"Times New Roman,serif\" font-size=\"14.00\">class = yes</text>\n",
       "</g>\n",
       "<!-- 7&#45;&gt;9 -->\n",
       "<g id=\"edge9\" class=\"edge\">\n",
       "<title>7-&gt;9</title>\n",
       "<path fill=\"none\" stroke=\"black\" d=\"M196.6,-460.91C198.91,-452.47 201.37,-443.48 203.76,-434.74\"/>\n",
       "<polygon fill=\"black\" stroke=\"black\" points=\"207.16,-435.59 206.42,-425.02 200.4,-433.74 207.16,-435.59\"/>\n",
       "</g>\n",
       "<!-- 10 -->\n",
       "<g id=\"node11\" class=\"node\">\n",
       "<title>10</title>\n",
       "<polygon fill=\"#a5d2f3\" stroke=\"black\" points=\"166.5,-298.5 68.5,-298.5 68.5,-230.5 166.5,-230.5 166.5,-298.5\"/>\n",
       "<text text-anchor=\"middle\" x=\"117.5\" y=\"-283.3\" font-family=\"Times New Roman,serif\" font-size=\"14.00\">gini = 0.457</text>\n",
       "<text text-anchor=\"middle\" x=\"117.5\" y=\"-268.3\" font-family=\"Times New Roman,serif\" font-size=\"14.00\">samples = 17</text>\n",
       "<text text-anchor=\"middle\" x=\"117.5\" y=\"-253.3\" font-family=\"Times New Roman,serif\" font-size=\"14.00\">value = [6, 11]</text>\n",
       "<text text-anchor=\"middle\" x=\"117.5\" y=\"-238.3\" font-family=\"Times New Roman,serif\" font-size=\"14.00\">class = yes</text>\n",
       "</g>\n",
       "<!-- 9&#45;&gt;10 -->\n",
       "<g id=\"edge10\" class=\"edge\">\n",
       "<title>9-&gt;10</title>\n",
       "<path fill=\"none\" stroke=\"black\" d=\"M182.81,-341.91C173,-330.43 162.32,-317.94 152.49,-306.44\"/>\n",
       "<polygon fill=\"black\" stroke=\"black\" points=\"155.01,-303.99 145.85,-298.67 149.68,-308.54 155.01,-303.99\"/>\n",
       "</g>\n",
       "<!-- 11 -->\n",
       "<g id=\"node12\" class=\"node\">\n",
       "<title>11</title>\n",
       "<polygon fill=\"#6ab6ec\" stroke=\"black\" points=\"282.5,-298.5 184.5,-298.5 184.5,-230.5 282.5,-230.5 282.5,-298.5\"/>\n",
       "<text text-anchor=\"middle\" x=\"233.5\" y=\"-283.3\" font-family=\"Times New Roman,serif\" font-size=\"14.00\">gini = 0.32</text>\n",
       "<text text-anchor=\"middle\" x=\"233.5\" y=\"-268.3\" font-family=\"Times New Roman,serif\" font-size=\"14.00\">samples = 15</text>\n",
       "<text text-anchor=\"middle\" x=\"233.5\" y=\"-253.3\" font-family=\"Times New Roman,serif\" font-size=\"14.00\">value = [3, 12]</text>\n",
       "<text text-anchor=\"middle\" x=\"233.5\" y=\"-238.3\" font-family=\"Times New Roman,serif\" font-size=\"14.00\">class = yes</text>\n",
       "</g>\n",
       "<!-- 9&#45;&gt;11 -->\n",
       "<g id=\"edge11\" class=\"edge\">\n",
       "<title>9-&gt;11</title>\n",
       "<path fill=\"none\" stroke=\"black\" d=\"M223.05,-341.91C224.51,-331.2 226.1,-319.62 227.58,-308.78\"/>\n",
       "<polygon fill=\"black\" stroke=\"black\" points=\"231.08,-309.05 228.96,-298.67 224.14,-308.1 231.08,-309.05\"/>\n",
       "</g>\n",
       "<!-- 13 -->\n",
       "<g id=\"node14\" class=\"node\">\n",
       "<title>13</title>\n",
       "<polygon fill=\"#e58139\" stroke=\"black\" points=\"370.5,-774.5 272.5,-774.5 272.5,-706.5 370.5,-706.5 370.5,-774.5\"/>\n",
       "<text text-anchor=\"middle\" x=\"321.5\" y=\"-759.3\" font-family=\"Times New Roman,serif\" font-size=\"14.00\">gini = 0.0</text>\n",
       "<text text-anchor=\"middle\" x=\"321.5\" y=\"-744.3\" font-family=\"Times New Roman,serif\" font-size=\"14.00\">samples = 10</text>\n",
       "<text text-anchor=\"middle\" x=\"321.5\" y=\"-729.3\" font-family=\"Times New Roman,serif\" font-size=\"14.00\">value = [10, 0]</text>\n",
       "<text text-anchor=\"middle\" x=\"321.5\" y=\"-714.3\" font-family=\"Times New Roman,serif\" font-size=\"14.00\">class = no</text>\n",
       "</g>\n",
       "<!-- 12&#45;&gt;13 -->\n",
       "<g id=\"edge13\" class=\"edge\">\n",
       "<title>12-&gt;13</title>\n",
       "<path fill=\"none\" stroke=\"black\" d=\"M326.72,-817.91C325.99,-807.2 325.2,-795.62 324.46,-784.78\"/>\n",
       "<polygon fill=\"black\" stroke=\"black\" points=\"327.94,-784.4 323.77,-774.67 320.96,-784.88 327.94,-784.4\"/>\n",
       "</g>\n",
       "<!-- 14 -->\n",
       "<g id=\"node15\" class=\"node\">\n",
       "<title>14</title>\n",
       "<polygon fill=\"#f5ceb2\" stroke=\"black\" points=\"526,-782 389,-782 389,-699 526,-699 526,-782\"/>\n",
       "<text text-anchor=\"middle\" x=\"457.5\" y=\"-766.8\" font-family=\"Times New Roman,serif\" font-size=\"14.00\">temperatuer &lt;= 41.35</text>\n",
       "<text text-anchor=\"middle\" x=\"457.5\" y=\"-751.8\" font-family=\"Times New Roman,serif\" font-size=\"14.00\">gini = 0.471</text>\n",
       "<text text-anchor=\"middle\" x=\"457.5\" y=\"-736.8\" font-family=\"Times New Roman,serif\" font-size=\"14.00\">samples = 50</text>\n",
       "<text text-anchor=\"middle\" x=\"457.5\" y=\"-721.8\" font-family=\"Times New Roman,serif\" font-size=\"14.00\">value = [31, 19]</text>\n",
       "<text text-anchor=\"middle\" x=\"457.5\" y=\"-706.8\" font-family=\"Times New Roman,serif\" font-size=\"14.00\">class = no</text>\n",
       "</g>\n",
       "<!-- 12&#45;&gt;14 -->\n",
       "<g id=\"edge14\" class=\"edge\">\n",
       "<title>12-&gt;14</title>\n",
       "<path fill=\"none\" stroke=\"black\" d=\"M373.91,-817.91C384.14,-808.56 395.1,-798.54 405.61,-788.93\"/>\n",
       "<polygon fill=\"black\" stroke=\"black\" points=\"408.15,-791.35 413.17,-782.02 403.43,-786.18 408.15,-791.35\"/>\n",
       "</g>\n",
       "<!-- 15 -->\n",
       "<g id=\"node16\" class=\"node\">\n",
       "<title>15</title>\n",
       "<polygon fill=\"#f8ddca\" stroke=\"black\" points=\"522,-663 385,-663 385,-580 522,-580 522,-663\"/>\n",
       "<text text-anchor=\"middle\" x=\"453.5\" y=\"-647.8\" font-family=\"Times New Roman,serif\" font-size=\"14.00\">temperatuer &lt;= 41.25</text>\n",
       "<text text-anchor=\"middle\" x=\"453.5\" y=\"-632.8\" font-family=\"Times New Roman,serif\" font-size=\"14.00\">gini = 0.488</text>\n",
       "<text text-anchor=\"middle\" x=\"453.5\" y=\"-617.8\" font-family=\"Times New Roman,serif\" font-size=\"14.00\">samples = 45</text>\n",
       "<text text-anchor=\"middle\" x=\"453.5\" y=\"-602.8\" font-family=\"Times New Roman,serif\" font-size=\"14.00\">value = [26, 19]</text>\n",
       "<text text-anchor=\"middle\" x=\"453.5\" y=\"-587.8\" font-family=\"Times New Roman,serif\" font-size=\"14.00\">class = no</text>\n",
       "</g>\n",
       "<!-- 14&#45;&gt;15 -->\n",
       "<g id=\"edge15\" class=\"edge\">\n",
       "<title>14-&gt;15</title>\n",
       "<path fill=\"none\" stroke=\"black\" d=\"M456.11,-698.91C455.83,-690.56 455.52,-681.67 455.23,-673.02\"/>\n",
       "<polygon fill=\"black\" stroke=\"black\" points=\"458.73,-672.9 454.89,-663.02 451.73,-673.13 458.73,-672.9\"/>\n",
       "</g>\n",
       "<!-- 26 -->\n",
       "<g id=\"node27\" class=\"node\">\n",
       "<title>26</title>\n",
       "<polygon fill=\"#e58139\" stroke=\"black\" points=\"631,-655.5 540,-655.5 540,-587.5 631,-587.5 631,-655.5\"/>\n",
       "<text text-anchor=\"middle\" x=\"585.5\" y=\"-640.3\" font-family=\"Times New Roman,serif\" font-size=\"14.00\">gini = 0.0</text>\n",
       "<text text-anchor=\"middle\" x=\"585.5\" y=\"-625.3\" font-family=\"Times New Roman,serif\" font-size=\"14.00\">samples = 5</text>\n",
       "<text text-anchor=\"middle\" x=\"585.5\" y=\"-610.3\" font-family=\"Times New Roman,serif\" font-size=\"14.00\">value = [5, 0]</text>\n",
       "<text text-anchor=\"middle\" x=\"585.5\" y=\"-595.3\" font-family=\"Times New Roman,serif\" font-size=\"14.00\">class = no</text>\n",
       "</g>\n",
       "<!-- 14&#45;&gt;26 -->\n",
       "<g id=\"edge26\" class=\"edge\">\n",
       "<title>14-&gt;26</title>\n",
       "<path fill=\"none\" stroke=\"black\" d=\"M501.91,-698.91C514.83,-687.1 528.92,-674.22 541.79,-662.45\"/>\n",
       "<polygon fill=\"black\" stroke=\"black\" points=\"544.2,-665 549.21,-655.67 539.47,-659.83 544.2,-665\"/>\n",
       "</g>\n",
       "<!-- 16 -->\n",
       "<g id=\"node17\" class=\"node\">\n",
       "<title>16</title>\n",
       "<polygon fill=\"#f7d8c2\" stroke=\"black\" points=\"520,-544 383,-544 383,-461 520,-461 520,-544\"/>\n",
       "<text text-anchor=\"middle\" x=\"451.5\" y=\"-528.8\" font-family=\"Times New Roman,serif\" font-size=\"14.00\">temperatuer &lt;= 40.95</text>\n",
       "<text text-anchor=\"middle\" x=\"451.5\" y=\"-513.8\" font-family=\"Times New Roman,serif\" font-size=\"14.00\">gini = 0.483</text>\n",
       "<text text-anchor=\"middle\" x=\"451.5\" y=\"-498.8\" font-family=\"Times New Roman,serif\" font-size=\"14.00\">samples = 44</text>\n",
       "<text text-anchor=\"middle\" x=\"451.5\" y=\"-483.8\" font-family=\"Times New Roman,serif\" font-size=\"14.00\">value = [26, 18]</text>\n",
       "<text text-anchor=\"middle\" x=\"451.5\" y=\"-468.8\" font-family=\"Times New Roman,serif\" font-size=\"14.00\">class = no</text>\n",
       "</g>\n",
       "<!-- 15&#45;&gt;16 -->\n",
       "<g id=\"edge16\" class=\"edge\">\n",
       "<title>15-&gt;16</title>\n",
       "<path fill=\"none\" stroke=\"black\" d=\"M452.81,-579.91C452.66,-571.56 452.51,-562.67 452.36,-554.02\"/>\n",
       "<polygon fill=\"black\" stroke=\"black\" points=\"455.86,-553.96 452.19,-544.02 448.86,-554.08 455.86,-553.96\"/>\n",
       "</g>\n",
       "<!-- 25 -->\n",
       "<g id=\"node26\" class=\"node\">\n",
       "<title>25</title>\n",
       "<polygon fill=\"#399de5\" stroke=\"black\" points=\"629,-536.5 538,-536.5 538,-468.5 629,-468.5 629,-536.5\"/>\n",
       "<text text-anchor=\"middle\" x=\"583.5\" y=\"-521.3\" font-family=\"Times New Roman,serif\" font-size=\"14.00\">gini = 0.0</text>\n",
       "<text text-anchor=\"middle\" x=\"583.5\" y=\"-506.3\" font-family=\"Times New Roman,serif\" font-size=\"14.00\">samples = 1</text>\n",
       "<text text-anchor=\"middle\" x=\"583.5\" y=\"-491.3\" font-family=\"Times New Roman,serif\" font-size=\"14.00\">value = [0, 1]</text>\n",
       "<text text-anchor=\"middle\" x=\"583.5\" y=\"-476.3\" font-family=\"Times New Roman,serif\" font-size=\"14.00\">class = yes</text>\n",
       "</g>\n",
       "<!-- 15&#45;&gt;25 -->\n",
       "<g id=\"edge25\" class=\"edge\">\n",
       "<title>15-&gt;25</title>\n",
       "<path fill=\"none\" stroke=\"black\" d=\"M498.6,-579.91C511.72,-568.1 526.04,-555.22 539.11,-543.45\"/>\n",
       "<polygon fill=\"black\" stroke=\"black\" points=\"541.56,-545.96 546.65,-536.67 536.87,-540.76 541.56,-545.96\"/>\n",
       "</g>\n",
       "<!-- 17 -->\n",
       "<g id=\"node18\" class=\"node\">\n",
       "<title>17</title>\n",
       "<polygon fill=\"#fae9dc\" stroke=\"black\" points=\"519,-425 382,-425 382,-342 519,-342 519,-425\"/>\n",
       "<text text-anchor=\"middle\" x=\"450.5\" y=\"-409.8\" font-family=\"Times New Roman,serif\" font-size=\"14.00\">temperatuer &lt;= 40.85</text>\n",
       "<text text-anchor=\"middle\" x=\"450.5\" y=\"-394.8\" font-family=\"Times New Roman,serif\" font-size=\"14.00\">gini = 0.495</text>\n",
       "<text text-anchor=\"middle\" x=\"450.5\" y=\"-379.8\" font-family=\"Times New Roman,serif\" font-size=\"14.00\">samples = 31</text>\n",
       "<text text-anchor=\"middle\" x=\"450.5\" y=\"-364.8\" font-family=\"Times New Roman,serif\" font-size=\"14.00\">value = [17, 14]</text>\n",
       "<text text-anchor=\"middle\" x=\"450.5\" y=\"-349.8\" font-family=\"Times New Roman,serif\" font-size=\"14.00\">class = no</text>\n",
       "</g>\n",
       "<!-- 16&#45;&gt;17 -->\n",
       "<g id=\"edge17\" class=\"edge\">\n",
       "<title>16-&gt;17</title>\n",
       "<path fill=\"none\" stroke=\"black\" d=\"M451.15,-460.91C451.08,-452.65 451.01,-443.86 450.93,-435.3\"/>\n",
       "<polygon fill=\"black\" stroke=\"black\" points=\"454.43,-434.99 450.85,-425.02 447.43,-435.05 454.43,-434.99\"/>\n",
       "</g>\n",
       "<!-- 24 -->\n",
       "<g id=\"node25\" class=\"node\">\n",
       "<title>24</title>\n",
       "<polygon fill=\"#f1b991\" stroke=\"black\" points=\"628,-417.5 537,-417.5 537,-349.5 628,-349.5 628,-417.5\"/>\n",
       "<text text-anchor=\"middle\" x=\"582.5\" y=\"-402.3\" font-family=\"Times New Roman,serif\" font-size=\"14.00\">gini = 0.426</text>\n",
       "<text text-anchor=\"middle\" x=\"582.5\" y=\"-387.3\" font-family=\"Times New Roman,serif\" font-size=\"14.00\">samples = 13</text>\n",
       "<text text-anchor=\"middle\" x=\"582.5\" y=\"-372.3\" font-family=\"Times New Roman,serif\" font-size=\"14.00\">value = [9, 4]</text>\n",
       "<text text-anchor=\"middle\" x=\"582.5\" y=\"-357.3\" font-family=\"Times New Roman,serif\" font-size=\"14.00\">class = no</text>\n",
       "</g>\n",
       "<!-- 16&#45;&gt;24 -->\n",
       "<g id=\"edge24\" class=\"edge\">\n",
       "<title>16-&gt;24</title>\n",
       "<path fill=\"none\" stroke=\"black\" d=\"M496.95,-460.91C510.17,-449.1 524.6,-436.22 537.77,-424.45\"/>\n",
       "<polygon fill=\"black\" stroke=\"black\" points=\"540.24,-426.94 545.36,-417.67 535.57,-421.72 540.24,-426.94\"/>\n",
       "</g>\n",
       "<!-- 18 -->\n",
       "<g id=\"node19\" class=\"node\">\n",
       "<title>18</title>\n",
       "<polygon fill=\"#f8e0ce\" stroke=\"black\" points=\"449,-306 312,-306 312,-223 449,-223 449,-306\"/>\n",
       "<text text-anchor=\"middle\" x=\"380.5\" y=\"-290.8\" font-family=\"Times New Roman,serif\" font-size=\"14.00\">temperatuer &lt;= 40.75</text>\n",
       "<text text-anchor=\"middle\" x=\"380.5\" y=\"-275.8\" font-family=\"Times New Roman,serif\" font-size=\"14.00\">gini = 0.49</text>\n",
       "<text text-anchor=\"middle\" x=\"380.5\" y=\"-260.8\" font-family=\"Times New Roman,serif\" font-size=\"14.00\">samples = 28</text>\n",
       "<text text-anchor=\"middle\" x=\"380.5\" y=\"-245.8\" font-family=\"Times New Roman,serif\" font-size=\"14.00\">value = [16, 12]</text>\n",
       "<text text-anchor=\"middle\" x=\"380.5\" y=\"-230.8\" font-family=\"Times New Roman,serif\" font-size=\"14.00\">class = no</text>\n",
       "</g>\n",
       "<!-- 17&#45;&gt;18 -->\n",
       "<g id=\"edge18\" class=\"edge\">\n",
       "<title>17-&gt;18</title>\n",
       "<path fill=\"none\" stroke=\"black\" d=\"M426.21,-341.91C420.95,-333.1 415.32,-323.7 409.88,-314.61\"/>\n",
       "<polygon fill=\"black\" stroke=\"black\" points=\"412.88,-312.81 404.74,-306.02 406.87,-316.4 412.88,-312.81\"/>\n",
       "</g>\n",
       "<!-- 23 -->\n",
       "<g id=\"node24\" class=\"node\">\n",
       "<title>23</title>\n",
       "<polygon fill=\"#9ccef2\" stroke=\"black\" points=\"558,-298.5 467,-298.5 467,-230.5 558,-230.5 558,-298.5\"/>\n",
       "<text text-anchor=\"middle\" x=\"512.5\" y=\"-283.3\" font-family=\"Times New Roman,serif\" font-size=\"14.00\">gini = 0.444</text>\n",
       "<text text-anchor=\"middle\" x=\"512.5\" y=\"-268.3\" font-family=\"Times New Roman,serif\" font-size=\"14.00\">samples = 3</text>\n",
       "<text text-anchor=\"middle\" x=\"512.5\" y=\"-253.3\" font-family=\"Times New Roman,serif\" font-size=\"14.00\">value = [1, 2]</text>\n",
       "<text text-anchor=\"middle\" x=\"512.5\" y=\"-238.3\" font-family=\"Times New Roman,serif\" font-size=\"14.00\">class = yes</text>\n",
       "</g>\n",
       "<!-- 17&#45;&gt;23 -->\n",
       "<g id=\"edge23\" class=\"edge\">\n",
       "<title>17-&gt;23</title>\n",
       "<path fill=\"none\" stroke=\"black\" d=\"M472.01,-341.91C477.86,-330.87 484.2,-318.9 490.1,-307.77\"/>\n",
       "<polygon fill=\"black\" stroke=\"black\" points=\"493.33,-309.14 494.92,-298.67 487.15,-305.86 493.33,-309.14\"/>\n",
       "</g>\n",
       "<!-- 19 -->\n",
       "<g id=\"node20\" class=\"node\">\n",
       "<title>19</title>\n",
       "<polygon fill=\"#fae6d7\" stroke=\"black\" points=\"383,-187 246,-187 246,-104 383,-104 383,-187\"/>\n",
       "<text text-anchor=\"middle\" x=\"314.5\" y=\"-171.8\" font-family=\"Times New Roman,serif\" font-size=\"14.00\">temperatuer &lt;= 40.35</text>\n",
       "<text text-anchor=\"middle\" x=\"314.5\" y=\"-156.8\" font-family=\"Times New Roman,serif\" font-size=\"14.00\">gini = 0.494</text>\n",
       "<text text-anchor=\"middle\" x=\"314.5\" y=\"-141.8\" font-family=\"Times New Roman,serif\" font-size=\"14.00\">samples = 27</text>\n",
       "<text text-anchor=\"middle\" x=\"314.5\" y=\"-126.8\" font-family=\"Times New Roman,serif\" font-size=\"14.00\">value = [15, 12]</text>\n",
       "<text text-anchor=\"middle\" x=\"314.5\" y=\"-111.8\" font-family=\"Times New Roman,serif\" font-size=\"14.00\">class = no</text>\n",
       "</g>\n",
       "<!-- 18&#45;&gt;19 -->\n",
       "<g id=\"edge19\" class=\"edge\">\n",
       "<title>18-&gt;19</title>\n",
       "<path fill=\"none\" stroke=\"black\" d=\"M357.6,-222.91C352.69,-214.2 347.44,-204.9 342.36,-195.89\"/>\n",
       "<polygon fill=\"black\" stroke=\"black\" points=\"345.32,-194.01 337.36,-187.02 339.22,-197.45 345.32,-194.01\"/>\n",
       "</g>\n",
       "<!-- 22 -->\n",
       "<g id=\"node23\" class=\"node\">\n",
       "<title>22</title>\n",
       "<polygon fill=\"#e58139\" stroke=\"black\" points=\"492,-179.5 401,-179.5 401,-111.5 492,-111.5 492,-179.5\"/>\n",
       "<text text-anchor=\"middle\" x=\"446.5\" y=\"-164.3\" font-family=\"Times New Roman,serif\" font-size=\"14.00\">gini = 0.0</text>\n",
       "<text text-anchor=\"middle\" x=\"446.5\" y=\"-149.3\" font-family=\"Times New Roman,serif\" font-size=\"14.00\">samples = 1</text>\n",
       "<text text-anchor=\"middle\" x=\"446.5\" y=\"-134.3\" font-family=\"Times New Roman,serif\" font-size=\"14.00\">value = [1, 0]</text>\n",
       "<text text-anchor=\"middle\" x=\"446.5\" y=\"-119.3\" font-family=\"Times New Roman,serif\" font-size=\"14.00\">class = no</text>\n",
       "</g>\n",
       "<!-- 18&#45;&gt;22 -->\n",
       "<g id=\"edge22\" class=\"edge\">\n",
       "<title>18-&gt;22</title>\n",
       "<path fill=\"none\" stroke=\"black\" d=\"M403.4,-222.91C409.69,-211.76 416.51,-199.66 422.84,-188.44\"/>\n",
       "<polygon fill=\"black\" stroke=\"black\" points=\"425.93,-190.1 427.79,-179.67 419.83,-186.66 425.93,-190.1\"/>\n",
       "</g>\n",
       "<!-- 20 -->\n",
       "<g id=\"node21\" class=\"node\">\n",
       "<title>20</title>\n",
       "<polygon fill=\"#f5d0b5\" stroke=\"black\" points=\"306,-68 215,-68 215,0 306,0 306,-68\"/>\n",
       "<text text-anchor=\"middle\" x=\"260.5\" y=\"-52.8\" font-family=\"Times New Roman,serif\" font-size=\"14.00\">gini = 0.473</text>\n",
       "<text text-anchor=\"middle\" x=\"260.5\" y=\"-37.8\" font-family=\"Times New Roman,serif\" font-size=\"14.00\">samples = 13</text>\n",
       "<text text-anchor=\"middle\" x=\"260.5\" y=\"-22.8\" font-family=\"Times New Roman,serif\" font-size=\"14.00\">value = [8, 5]</text>\n",
       "<text text-anchor=\"middle\" x=\"260.5\" y=\"-7.8\" font-family=\"Times New Roman,serif\" font-size=\"14.00\">class = no</text>\n",
       "</g>\n",
       "<!-- 19&#45;&gt;20 -->\n",
       "<g id=\"edge20\" class=\"edge\">\n",
       "<title>19-&gt;20</title>\n",
       "<path fill=\"none\" stroke=\"black\" d=\"M294.39,-103.73C290.16,-95.15 285.69,-86.09 281.44,-77.46\"/>\n",
       "<polygon fill=\"black\" stroke=\"black\" points=\"284.48,-75.72 276.92,-68.3 278.21,-78.82 284.48,-75.72\"/>\n",
       "</g>\n",
       "<!-- 21 -->\n",
       "<g id=\"node22\" class=\"node\">\n",
       "<title>21</title>\n",
       "<polygon fill=\"#ffffff\" stroke=\"black\" points=\"415,-68 324,-68 324,0 415,0 415,-68\"/>\n",
       "<text text-anchor=\"middle\" x=\"369.5\" y=\"-52.8\" font-family=\"Times New Roman,serif\" font-size=\"14.00\">gini = 0.5</text>\n",
       "<text text-anchor=\"middle\" x=\"369.5\" y=\"-37.8\" font-family=\"Times New Roman,serif\" font-size=\"14.00\">samples = 14</text>\n",
       "<text text-anchor=\"middle\" x=\"369.5\" y=\"-22.8\" font-family=\"Times New Roman,serif\" font-size=\"14.00\">value = [7, 7]</text>\n",
       "<text text-anchor=\"middle\" x=\"369.5\" y=\"-7.8\" font-family=\"Times New Roman,serif\" font-size=\"14.00\">class = no</text>\n",
       "</g>\n",
       "<!-- 19&#45;&gt;21 -->\n",
       "<g id=\"edge21\" class=\"edge\">\n",
       "<title>19-&gt;21</title>\n",
       "<path fill=\"none\" stroke=\"black\" d=\"M334.98,-103.73C339.29,-95.15 343.84,-86.09 348.18,-77.46\"/>\n",
       "<polygon fill=\"black\" stroke=\"black\" points=\"351.41,-78.81 352.77,-68.3 345.16,-75.66 351.41,-78.81\"/>\n",
       "</g>\n",
       "</g>\n",
       "</svg>"
      ],
      "text/plain": [
       "<IPython.core.display.SVG object>"
      ]
     },
     "metadata": {},
     "output_type": "display_data"
=======
   "execution_count": 54,
   "metadata": {},
   "outputs": [
    {
     "ename": "ModuleNotFoundError",
     "evalue": "No module named 'graphviz'",
     "output_type": "error",
     "traceback": [
      "\u001b[0;31m---------------------------------------------------------------------------\u001b[0m",
      "\u001b[0;31mModuleNotFoundError\u001b[0m                       Traceback (most recent call last)",
      "\u001b[0;32m<ipython-input-54-1dd0542c3efc>\u001b[0m in \u001b[0;36m<module>\u001b[0;34m\u001b[0m\n\u001b[0;32m----> 1\u001b[0;31m \u001b[0;32mfrom\u001b[0m \u001b[0mgraphviz\u001b[0m \u001b[0;32mimport\u001b[0m \u001b[0mSource\u001b[0m\u001b[0;34m\u001b[0m\u001b[0;34m\u001b[0m\u001b[0m\n\u001b[0m\u001b[1;32m      2\u001b[0m \u001b[0;32mfrom\u001b[0m \u001b[0msklearn\u001b[0m\u001b[0;34m.\u001b[0m\u001b[0mtree\u001b[0m \u001b[0;32mimport\u001b[0m \u001b[0mexport_graphviz\u001b[0m\u001b[0;34m\u001b[0m\u001b[0;34m\u001b[0m\u001b[0m\n\u001b[1;32m      3\u001b[0m \u001b[0;32mfrom\u001b[0m \u001b[0mIPython\u001b[0m\u001b[0;34m.\u001b[0m\u001b[0mdisplay\u001b[0m \u001b[0;32mimport\u001b[0m \u001b[0mSVG\u001b[0m\u001b[0;34m\u001b[0m\u001b[0;34m\u001b[0m\u001b[0m\n\u001b[1;32m      4\u001b[0m \u001b[0;34m\u001b[0m\u001b[0m\n\u001b[1;32m      5\u001b[0m \u001b[0minflamtion_labels\u001b[0m \u001b[0;34m=\u001b[0m \u001b[0;34m'temperatuer'\u001b[0m\u001b[0;34m\u001b[0m\u001b[0;34m\u001b[0m\u001b[0m\n",
      "\u001b[0;31mModuleNotFoundError\u001b[0m: No module named 'graphviz'"
     ]
>>>>>>> Stashed changes
    }
   ],
   "source": [
    "from graphviz import Source\n",
    "from sklearn.tree import export_graphviz\n",
    "from IPython.display import SVG\n",
    "\n",
<<<<<<< Updated upstream
    "inflamation_labels = les['inflamation'].classes_\n",
    "print(inflamtion_labels)\n",
    "\n",
    "graph = Source(tree.export_graphviz( model, out_file=None,\n",
    "                                     feature_names=features,\n",
    "                                     class_names=inflamation_labels,\n",
    "                                     filled=True))\n",
    "display(SVG(graph.pipe(format='svg')))"
   ]
  },
  {
   "cell_type": "markdown",
   "metadata": {},
   "source": [
    "# 모델 적용"
   ]
  },
  {
   "cell_type": "code",
   "execution_count": 38,
   "metadata": {},
   "outputs": [
    {
     "name": "stdout",
     "output_type": "stream",
     "text": [
      "(120,)\n",
      "(120, 2)\n"
     ]
    }
   ],
   "source": [
    "pred_y = model.predict(x)\n",
    "pred_y_prob = model.predict_proba(x)\n",
    "print(np.shape(pred_y))\n",
    "print(np.shape(pred_y_prob))"
   ]
  },
  {
   "cell_type": "code",
   "execution_count": 39,
   "metadata": {},
   "outputs": [
    {
     "name": "stdout",
     "output_type": "stream",
     "text": [
      "정답:  0\n",
      "예측:  0\n",
      "확률:  [0.5625 0.4375]\n",
      "[0 1]\n"
     ]
    }
   ],
   "source": [
    "print('정답: ', y[0])\n",
    "print('예측: ', pred_y[0])\n",
    "print('확률: ', pred_y_prob[0])\n",
    "print(model.classes_)"
   ]
  },
  {
   "cell_type": "code",
   "execution_count": 40,
   "metadata": {},
   "outputs": [
    {
     "name": "stdout",
     "output_type": "stream",
     "text": [
      "0.7083333333333334\n"
     ]
    }
   ],
   "source": [
    "mean_accuracy = model.score(x, y)\n",
    "print(mean_accuracy)"
   ]
  },
  {
   "cell_type": "markdown",
   "metadata": {},
   "source": [
    "# 모델 적용"
   ]
  },
  {
   "cell_type": "markdown",
   "metadata": {},
   "source": [
    "이제는, \"Inflamation'과 'nephritis'를 제외한 모든 attribute 들을 feature로 사용해서 다시 accuracy를 구해보자"
   ]
  },
  {
   "cell_type": "code",
   "execution_count": 41,
   "metadata": {},
   "outputs": [],
   "source": [
    "from sklearn.tree import DecisionTreeClassifier, export_graphviz\n",
    "from sklearn import tree\n",
    "\n",
    "y = dicted_data['inflamation']\n",
    "\n",
    "features = [ 'temperatuer', 'nausea', 'urine_pushing'\n",
    "            , 'burning_of_urethra', 'lumbar_pain', 'micturition_pains' ]\n",
    "x = dicted_data[features]\n",
    "\n",
    "model = DecisionTreeClassifier(min_samples_split=20, random_state=99)"
   ]
  },
  {
   "cell_type": "code",
   "execution_count": 42,
   "metadata": {},
   "outputs": [
    {
     "name": "stdout",
     "output_type": "stream",
     "text": [
      "1.0\n"
     ]
    }
   ],
   "source": [
    "model.fit(x, y)\n",
    "mean_accuracy = model.score(x, y)\n",
    "print(mean_accuracy)"
   ]
  },
  {
   "cell_type": "code",
   "execution_count": 43,
   "metadata": {},
   "outputs": [
    {
     "name": "stdout",
     "output_type": "stream",
     "text": [
      "['temperatuer', 'nausea', 'urine_pushing', 'burning_of_urethra', 'lumbar_pain', 'micturition_pains']\n",
      "[0.         0.         0.48360656 0.         0.22586919 0.29052425]\n"
     ]
    }
   ],
   "source": [
    "print(features)\n",
    "print(model.feature_importances_)"
   ]
  },
  {
   "cell_type": "code",
   "execution_count": 44,
   "metadata": {},
   "outputs": [],
   "source": [
    "from sklearn.tree import DecisionTreeClassifier, export_graphviz\n",
    "from sklearn import tree\n",
    "\n",
    "y = dicted_data['inflamation']\n",
    "\n",
    "features = ['urine_pushing']\n",
    "\n",
    "x = dicted_data[features]\n",
    "\n",
    "model = DecisionTreeClassifier(min_samples_split=20, random_state=99)"
   ]
  },
  {
   "cell_type": "code",
   "execution_count": 45,
   "metadata": {},
   "outputs": [
    {
     "name": "stdout",
     "output_type": "stream",
     "text": [
      "0.825\n"
     ]
    }
   ],
   "source": [
    "model.fit(x, y)\n",
    "mean_accuracy = model.score(x, y)\n",
    "print(mean_accuracy)"
   ]
  },
  {
   "cell_type": "code",
   "execution_count": 53,
   "metadata": {},
   "outputs": [],
   "source": [
    "from sklearn.tree import DecisionTreeClassifier, export_graphviz\n",
    "from sklearn import tree\n",
    "from sklearn.model_selection import train_test_split\n",
    "\n",
    "features = [ 'temperatuer', 'nausea', 'urine_pushing'\n",
    "            , 'burning_of_urethra', 'lumbar_pain', 'micturition_pains' ]\n",
    "\n",
    "train_d, test_d = train_test_split(dicted_data, test_size=0.1)\n",
    "\n",
    "\n",
    "train_y = train_d['inflamation']\n",
    "train_x = train_d[features]\n",
    "\n",
    "test_y = test_d['inflamation']\n",
    "test_x = test_d[features]"
   ]
  },
  {
   "cell_type": "code",
   "execution_count": 54,
   "metadata": {},
   "outputs": [
    {
     "name": "stdout",
     "output_type": "stream",
     "text": [
      "1.0\n",
      "1.0\n"
     ]
    }
   ],
   "source": [
    "model = DecisionTreeClassifier(min_samples_split=20, random_state=99)\n",
    "model.fit(train_x, train_y)\n",
    "\n",
    "mean_accuracy_for_train = model.score(train_x, train_y)\n",
    "print(mean_accuracy_for_train)\n",
    "\n",
    "mean_accuracy_for_test = model.score(test_x, test_y)\n",
    "print(mean_accuracy_for_test)"
   ]
  },
  {
   "cell_type": "code",
   "execution_count": 55,
   "metadata": {},
   "outputs": [],
   "source": [
    "import pickle\n",
    "modelpath = './model/prac001.model'\n",
    "with open(modelpath, 'wb') as f:\n",
    "    pickle.dump(model, f)"
   ]
  },
  {
   "cell_type": "code",
   "execution_count": 56,
   "metadata": {},
   "outputs": [
    {
     "name": "stdout",
     "output_type": "stream",
     "text": [
      "1.0\n"
     ]
    }
   ],
   "source": [
    "modelpath = './model/prac001.model'\n",
    "with open(modelpath, 'rb') as f:\n",
    "    model_loaded = pickle.load(f)\n",
    "    \n",
    "mean_accuracy_for_test = model_loaded.score(test_x, test_y)\n",
    "print(mean_accuracy_for_test)"
   ]
  },
  {
   "cell_type": "code",
   "execution_count": null,
   "metadata": {},
   "outputs": [],
   "source": []
=======
    "inflamtion_labels = 'temperatuer'\n",
    "print(inflamtion_labels)\n"
   ]
>>>>>>> Stashed changes
  }
 ],
 "metadata": {
  "kernelspec": {
   "display_name": "Python 3",
   "language": "python",
   "name": "python3"
  },
  "language_info": {
   "codemirror_mode": {
    "name": "ipython",
    "version": 3
   },
   "file_extension": ".py",
   "mimetype": "text/x-python",
   "name": "python",
   "nbconvert_exporter": "python",
   "pygments_lexer": "ipython3",
<<<<<<< Updated upstream
   "version": "3.8.5"
  }
 },
 "nbformat": 4,
 "nbformat_minor": 4
=======
   "version": "3.6.8"
  }
 },
 "nbformat": 4,
 "nbformat_minor": 2
>>>>>>> Stashed changes
}
